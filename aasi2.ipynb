{
 "cells": [
  {
   "cell_type": "code",
   "execution_count": 1,
   "id": "1e069a5c-e8a5-4b6c-9738-5317f94aa80a",
   "metadata": {},
   "outputs": [],
   "source": [
    "#Q1)Write a code to create a string with your name and print it."
   ]
  },
  {
   "cell_type": "code",
   "execution_count": 2,
   "id": "8b71b8c9-5f7a-492b-a05f-81f30ff40a31",
   "metadata": {},
   "outputs": [
    {
     "name": "stdout",
     "output_type": "stream",
     "text": [
      "Neha Saini\n"
     ]
    }
   ],
   "source": [
    "name = \"Neha Saini\"\n",
    "print(name)"
   ]
  },
  {
   "cell_type": "code",
   "execution_count": 3,
   "id": "2d5a6ece-6b39-47ea-bf51-a4a2adc6083b",
   "metadata": {},
   "outputs": [],
   "source": [
    "#Q2)Write a code to find the length of the string \"Hello World\"."
   ]
  },
  {
   "cell_type": "code",
   "execution_count": 4,
   "id": "9152f7af-6962-4ead-98af-dc44f1a8449a",
   "metadata": {},
   "outputs": [
    {
     "data": {
      "text/plain": [
       "11"
      ]
     },
     "execution_count": 4,
     "metadata": {},
     "output_type": "execute_result"
    }
   ],
   "source": [
    "str=\"Hello World\"\n",
    "len(str)"
   ]
  },
  {
   "cell_type": "code",
   "execution_count": 5,
   "id": "b902ccc1-c8da-41e0-9e78-773df58aa987",
   "metadata": {},
   "outputs": [],
   "source": [
    "#Q3)Write a code to slice the first 3 characters from the string \"Python Programming\""
   ]
  },
  {
   "cell_type": "code",
   "execution_count": 8,
   "id": "e6e76fec-5f7e-4d8c-a12e-0342c3beda41",
   "metadata": {},
   "outputs": [
    {
     "name": "stdout",
     "output_type": "stream",
     "text": [
      "Pyt\n"
     ]
    }
   ],
   "source": [
    "text = \"Python Programming\"\n",
    "sliced_text = text[:3]\n",
    "print(sliced_text)"
   ]
  },
  {
   "cell_type": "code",
   "execution_count": 7,
   "id": "896b1a23-0822-47f2-9e14-c2d785ca16c2",
   "metadata": {},
   "outputs": [
    {
     "name": "stdout",
     "output_type": "stream",
     "text": [
      "Pyt\n"
     ]
    }
   ],
   "source": [
    "print(text[:3])"
   ]
  },
  {
   "cell_type": "code",
   "execution_count": 9,
   "id": "95cb8d8e-4a5e-4ee7-bab3-bfae57ae6665",
   "metadata": {},
   "outputs": [],
   "source": [
    "#Q4) Write a code to convert the string \"hello\" to uppercase?"
   ]
  },
  {
   "cell_type": "code",
   "execution_count": 12,
   "id": "6aef5fb6-b825-443b-b99f-9fb52f40c584",
   "metadata": {},
   "outputs": [
    {
     "name": "stdout",
     "output_type": "stream",
     "text": [
      "HELLO\n"
     ]
    }
   ],
   "source": [
    "A = \"hello\"\n",
    "print(A.upper())"
   ]
  },
  {
   "cell_type": "code",
   "execution_count": 13,
   "id": "bfbf6cb1-ed09-42eb-9861-d633f77bc035",
   "metadata": {},
   "outputs": [],
   "source": [
    "#Q5)Write a code to replace the word \"apple\" with \"orange\" in the string \"I like apple"
   ]
  },
  {
   "cell_type": "code",
   "execution_count": 14,
   "id": "725a3c0b-05af-4b90-86df-78d515ba2388",
   "metadata": {},
   "outputs": [
    {
     "name": "stdout",
     "output_type": "stream",
     "text": [
      "I like orange\n"
     ]
    }
   ],
   "source": [
    "A = \"I like apple\"\n",
    "print(A.replace(\"apple\",\"orange\"))"
   ]
  },
  {
   "cell_type": "code",
   "execution_count": 15,
   "id": "d0afc69f-d5b0-418f-ae8e-31f006390e24",
   "metadata": {},
   "outputs": [],
   "source": [
    "#Q.6) Write a code to create a list with numbers 1 to 5 and print it"
   ]
  },
  {
   "cell_type": "code",
   "execution_count": 16,
   "id": "720b4052-8788-4437-8446-674c04a490f2",
   "metadata": {},
   "outputs": [
    {
     "data": {
      "text/plain": [
       "[1, 2, 3, 4, 5]"
      ]
     },
     "execution_count": 16,
     "metadata": {},
     "output_type": "execute_result"
    }
   ],
   "source": [
    "lis = [1,2,3,4,5]\n",
    "lis"
   ]
  },
  {
   "cell_type": "code",
   "execution_count": 18,
   "id": "faae2b7b-3ec9-4137-96ec-cbf6b158b30f",
   "metadata": {},
   "outputs": [],
   "source": [
    "#Q.7)Write a code to append the number 10 to the list [1, 2, 3, 4]\n"
   ]
  },
  {
   "cell_type": "code",
   "execution_count": 21,
   "id": "42957a61-42a6-455e-879c-aff8e06f984c",
   "metadata": {},
   "outputs": [
    {
     "data": {
      "text/plain": [
       "[1, 2, 3, 4, 10]"
      ]
     },
     "execution_count": 21,
     "metadata": {},
     "output_type": "execute_result"
    }
   ],
   "source": [
    "A = [1,2,3,4]\n",
    "A.append(10)\n",
    "A"
   ]
  },
  {
   "cell_type": "code",
   "execution_count": 22,
   "id": "d5c62636-53ff-40a0-abea-ef4c3e951a82",
   "metadata": {},
   "outputs": [],
   "source": [
    "#Q.8)Write a code to remove the number 3 from the list [1, 2, 3, 4, 5]?"
   ]
  },
  {
   "cell_type": "code",
   "execution_count": 24,
   "id": "085d640f-fe30-4125-8984-c51b66315fad",
   "metadata": {},
   "outputs": [
    {
     "data": {
      "text/plain": [
       "[1, 2, 3, 5]"
      ]
     },
     "execution_count": 24,
     "metadata": {},
     "output_type": "execute_result"
    }
   ],
   "source": [
    "A = [1,2,3,4,5]\n",
    "A.pop(3)\n",
    "A\n"
   ]
  },
  {
   "cell_type": "code",
   "execution_count": 25,
   "id": "b3561616-8e61-4cdc-b0b3-e0fed9b03db7",
   "metadata": {},
   "outputs": [],
   "source": [
    "#Q.9)Write a code to access the second element in the list ['a', 'b', 'c', 'd']"
   ]
  },
  {
   "cell_type": "code",
   "execution_count": 26,
   "id": "759043ea-ff0e-4ca7-8e09-5c4e30c4524c",
   "metadata": {},
   "outputs": [
    {
     "data": {
      "text/plain": [
       "'b'"
      ]
     },
     "execution_count": 26,
     "metadata": {},
     "output_type": "execute_result"
    }
   ],
   "source": [
    "\n",
    "lis =[\"a\",\"b\",\"c\",\"d\"]\n",
    "lis[1]"
   ]
  },
  {
   "cell_type": "code",
   "execution_count": 27,
   "id": "9add065e-fd69-4d48-a0e8-abcc4bf47e4d",
   "metadata": {},
   "outputs": [],
   "source": [
    "#Q.10)Write a code to reverse the list [10, 20, 30, 40, 50]"
   ]
  },
  {
   "cell_type": "code",
   "execution_count": 29,
   "id": "013c9983-c813-4cd4-a47d-e8ce6eff80a9",
   "metadata": {},
   "outputs": [
    {
     "data": {
      "text/plain": [
       "[50, 40, 30, 20, 10]"
      ]
     },
     "execution_count": 29,
     "metadata": {},
     "output_type": "execute_result"
    }
   ],
   "source": [
    "list = [10, 20, 30, 40, 50]\n",
    "list.reverse()\n",
    "list"
   ]
  },
  {
   "cell_type": "code",
   "execution_count": 30,
   "id": "c20cbc66-bcdd-4b8f-bcbf-992356ff1a58",
   "metadata": {},
   "outputs": [],
   "source": [
    "#Q.11) Write a code to create a tuple with the elements 100, 200, 300 and print it"
   ]
  },
  {
   "cell_type": "code",
   "execution_count": 31,
   "id": "48a5f590-2db7-49e0-878f-acd8a37e8927",
   "metadata": {},
   "outputs": [
    {
     "data": {
      "text/plain": [
       "(100, 200, 300)"
      ]
     },
     "execution_count": 31,
     "metadata": {},
     "output_type": "execute_result"
    }
   ],
   "source": [
    "tuple = (100, 200, 300)\n",
    "tuple"
   ]
  },
  {
   "cell_type": "code",
   "execution_count": 32,
   "id": "b3546da3-3ed2-495c-ac8d-b50a14cae1ad",
   "metadata": {},
   "outputs": [],
   "source": [
    "#Q.12) Write a code to access the second-to-last element of the tuple ('red', 'green', 'blue', 'yellow')."
   ]
  },
  {
   "cell_type": "code",
   "execution_count": 33,
   "id": "78678023-23ba-4bad-846e-11469af1ff8b",
   "metadata": {},
   "outputs": [
    {
     "data": {
      "text/plain": [
       "'blue'"
      ]
     },
     "execution_count": 33,
     "metadata": {},
     "output_type": "execute_result"
    }
   ],
   "source": [
    "tuple = ('red', 'green', 'blue', 'yellow')\n",
    "tuple[-2]"
   ]
  },
  {
   "cell_type": "code",
   "execution_count": 34,
   "id": "bd9153e3-6aa2-46d2-a7c0-fcdd9179214e",
   "metadata": {},
   "outputs": [],
   "source": [
    "#Q.13)Write a code to find the minimum number in the tuple (10, 20, 5, 15)."
   ]
  },
  {
   "cell_type": "code",
   "execution_count": 37,
   "id": "c2a7a007-cc70-48c5-b845-196b8aa6d2fe",
   "metadata": {},
   "outputs": [
    {
     "name": "stdout",
     "output_type": "stream",
     "text": [
      "5\n"
     ]
    }
   ],
   "source": [
    " tuple = (10, 20, 5, 15)\n",
    " print(min(tuple))"
   ]
  },
  {
   "cell_type": "code",
   "execution_count": 38,
   "id": "a32088e7-0976-4b30-b053-ed5e9a46e267",
   "metadata": {},
   "outputs": [],
   "source": [
    "#Q.14)Write a code to find the index of the element \"cat\" in the tuple ('dog', 'cat', 'rabbit')."
   ]
  },
  {
   "cell_type": "code",
   "execution_count": 41,
   "id": "167cde36-b284-4562-baa3-95f7266202c4",
   "metadata": {},
   "outputs": [
    {
     "name": "stdout",
     "output_type": "stream",
     "text": [
      "1\n"
     ]
    }
   ],
   "source": [
    " tuple = ('dog', 'cat', 'rabbit')\n",
    " print(tuple.index(\"cat\"))"
   ]
  },
  {
   "cell_type": "code",
   "execution_count": 42,
   "id": "f935394d-de12-465b-a90f-76f6db32dd8d",
   "metadata": {},
   "outputs": [],
   "source": [
    "#Q.15)Write a code to create a tuple containing three different fruits and check if \"kiwi\" is in it"
   ]
  },
  {
   "cell_type": "code",
   "execution_count": 49,
   "id": "f613f133-552b-42f3-9278-27a5bcc6e3f3",
   "metadata": {},
   "outputs": [
    {
     "name": "stdout",
     "output_type": "stream",
     "text": [
      "kiwi is not in tuple\n",
      "('banana', 'apple', 'orange')\n"
     ]
    }
   ],
   "source": [
    " tuple = (\"banana\",\"apple\",\"orange\")\n",
    " if \"kiwi\" is  tuple:\n",
    "     print(\"kiwi is in tuple\")\n",
    " else:\n",
    "     print(\"kiwi is not in tuple\")\n",
    " print (tuple)    \n",
    "     \n",
    "  "
   ]
  },
  {
   "cell_type": "code",
   "execution_count": 50,
   "id": "bd01d981-669a-4432-9ff7-7e4889ba3a9c",
   "metadata": {},
   "outputs": [],
   "source": [
    "#Q16)Write a code to create a set with the elements 'a', 'b', 'c' and print it."
   ]
  },
  {
   "cell_type": "code",
   "execution_count": 51,
   "id": "7a4dd161-be32-4f1d-ac83-b2fadbe25097",
   "metadata": {},
   "outputs": [
    {
     "data": {
      "text/plain": [
       "{'a', 'b', 'c'}"
      ]
     },
     "execution_count": 51,
     "metadata": {},
     "output_type": "execute_result"
    }
   ],
   "source": [
    "set = {\"a\",\"b\",\"c\"}\n",
    "set"
   ]
  },
  {
   "cell_type": "code",
   "execution_count": 52,
   "id": "351fccd5-d5cb-4579-aaeb-9fb02900e4e9",
   "metadata": {},
   "outputs": [],
   "source": [
    "#Q.17)Write a code to clear all elements from the set {1, 2, 3, 4, 5}."
   ]
  },
  {
   "cell_type": "code",
   "execution_count": 55,
   "id": "4ad2bff3-4fec-4783-a5e8-1e480ee2dce7",
   "metadata": {},
   "outputs": [
    {
     "data": {
      "text/plain": [
       "{1, 2, 3, 4, 5}"
      ]
     },
     "execution_count": 55,
     "metadata": {},
     "output_type": "execute_result"
    }
   ],
   "source": [
    "set = {1, 2, 3, 4, 5}\n",
    "set\n"
   ]
  },
  {
   "cell_type": "code",
   "execution_count": 58,
   "id": "647334d7-fdd1-4569-80f3-d75ad3a65caf",
   "metadata": {},
   "outputs": [
    {
     "data": {
      "text/plain": [
       "set()"
      ]
     },
     "execution_count": 58,
     "metadata": {},
     "output_type": "execute_result"
    }
   ],
   "source": [
    "set.clear()\n",
    "set"
   ]
  },
  {
   "cell_type": "code",
   "execution_count": 59,
   "id": "667f253a-0710-4797-885e-dde6e88f435a",
   "metadata": {},
   "outputs": [],
   "source": [
    "#Q.18) Write a code to remove the element 4 from the  set {1, 2, 3, 4}."
   ]
  },
  {
   "cell_type": "code",
   "execution_count": 61,
   "id": "23b3a4c2-b5a7-40d7-bd1c-cbeb201c3cb4",
   "metadata": {},
   "outputs": [
    {
     "data": {
      "text/plain": [
       "{1, 2, 3}"
      ]
     },
     "execution_count": 61,
     "metadata": {},
     "output_type": "execute_result"
    }
   ],
   "source": [
    "set = {1, 2, 3, 4}\n",
    "set.remove(4)\n",
    "set"
   ]
  },
  {
   "cell_type": "code",
   "execution_count": 62,
   "id": "bf8e9400-c059-4adb-9d25-f3880af3ef8d",
   "metadata": {},
   "outputs": [],
   "source": [
    "#Q.19)Write a code to find the union of two sets {1, 2, 3} and {3, 4, 5}"
   ]
  },
  {
   "cell_type": "code",
   "execution_count": 69,
   "id": "a553d688-f821-4915-b896-b65a135f257a",
   "metadata": {},
   "outputs": [
    {
     "name": "stdout",
     "output_type": "stream",
     "text": [
      "{1, 2, 3, 4, 5}\n"
     ]
    }
   ],
   "source": [
    "s1 = {1, 2, 3}\n",
    "s2 = {3, 4, 5}\n",
    "print(s1.union(s2))"
   ]
  },
  {
   "cell_type": "code",
   "execution_count": 70,
   "id": "d6cc629c-7674-4743-9872-15176e032b9f",
   "metadata": {},
   "outputs": [],
   "source": [
    "#Q.20) Write a code to find the intersection of two sets {1, 2, 3} and {2, 3, 4}."
   ]
  },
  {
   "cell_type": "code",
   "execution_count": 71,
   "id": "e2e106bc-6b51-4ac8-896e-14ff0070950b",
   "metadata": {},
   "outputs": [
    {
     "name": "stdout",
     "output_type": "stream",
     "text": [
      "{2, 3}\n"
     ]
    }
   ],
   "source": [
    "s1 = {1,2,3}\n",
    "s2 = {2,3,4}\n",
    "print(s1.intersection(s2))"
   ]
  },
  {
   "cell_type": "code",
   "execution_count": 72,
   "id": "31454707-4103-48da-b497-4b7caa89fbe1",
   "metadata": {},
   "outputs": [],
   "source": [
    "#Q.21)Write a code to create a dictionary with the keys \"name\", \"age\", and \"city\", and print it\n"
   ]
  },
  {
   "cell_type": "code",
   "execution_count": 74,
   "id": "6932e5b8-01ee-43f3-955f-ca512d5cf693",
   "metadata": {},
   "outputs": [
    {
     "data": {
      "text/plain": [
       "{'name': '', 'age': '', 'city': ''}"
      ]
     },
     "execution_count": 74,
     "metadata": {},
     "output_type": "execute_result"
    }
   ],
   "source": [
    "dic = {\"name\":\"\",\"age\":\"\",\"city\":\"\"}\n",
    "dic"
   ]
  },
  {
   "cell_type": "code",
   "execution_count": 75,
   "id": "c9fd5c98-80ca-47de-b5bd-7f9991e4abfa",
   "metadata": {},
   "outputs": [],
   "source": [
    "#Q.22) Write a code to add a new key-value pair \"country\": \"USA\" to the dictionary {'name': 'John', 'age': 25}.\n"
   ]
  },
  {
   "cell_type": "code",
   "execution_count": 76,
   "id": "fe5eccdf-0238-44c8-8c77-7ef4bac2ae24",
   "metadata": {},
   "outputs": [
    {
     "data": {
      "text/plain": [
       "{'name': 'John', 'age': 25}"
      ]
     },
     "execution_count": 76,
     "metadata": {},
     "output_type": "execute_result"
    }
   ],
   "source": [
    "dic = {'name': 'John', 'age': 25}\n",
    "dic"
   ]
  },
  {
   "cell_type": "code",
   "execution_count": 81,
   "id": "3fc3d2c4-0c47-4bc0-a789-8301cecf5c9a",
   "metadata": {},
   "outputs": [
    {
     "data": {
      "text/plain": [
       "{'name': 'John', 'age': 25, 'country': 'USA'}"
      ]
     },
     "execution_count": 81,
     "metadata": {},
     "output_type": "execute_result"
    }
   ],
   "source": [
    "dic[\"country\"]=\"USA\"\n",
    "dic"
   ]
  },
  {
   "cell_type": "code",
   "execution_count": 82,
   "id": "5c5c336f-b472-40bf-b6c3-46238a874be3",
   "metadata": {},
   "outputs": [],
   "source": [
    "#Q23) Write a code to access the value associated with the key \"name\" in the dictionary {'name': 'Alice', 'age': 30}.\n"
   ]
  },
  {
   "cell_type": "code",
   "execution_count": 83,
   "id": "f9dc7010-ab20-4151-bf1f-4b2ed047d72d",
   "metadata": {},
   "outputs": [
    {
     "name": "stdout",
     "output_type": "stream",
     "text": [
      "Alice\n"
     ]
    }
   ],
   "source": [
    "dict = {'name': 'Alice', 'age': 30}\n",
    "print(dict['name'])"
   ]
  },
  {
   "cell_type": "code",
   "execution_count": 84,
   "id": "e2f3790a-ccfc-490e-8a7b-457e86ffe6e1",
   "metadata": {},
   "outputs": [],
   "source": [
    "#Q 24) Write a code to remove the key \"age\" from the dictionary {'name': 'Bob', 'age': 22, 'city': 'New York'}."
   ]
  },
  {
   "cell_type": "code",
   "execution_count": 88,
   "id": "e804e284-7e77-4d07-a7d4-53270bfde1cf",
   "metadata": {},
   "outputs": [],
   "source": [
    "dic = {'name': 'Bob', 'age': 22, 'city': 'New York'}\n",
    "del dic['age']"
   ]
  },
  {
   "cell_type": "code",
   "execution_count": 89,
   "id": "00d89dbe-a59c-417f-b47d-54c278941351",
   "metadata": {},
   "outputs": [
    {
     "data": {
      "text/plain": [
       "{'name': 'Bob', 'city': 'New York'}"
      ]
     },
     "execution_count": 89,
     "metadata": {},
     "output_type": "execute_result"
    }
   ],
   "source": [
    "dic"
   ]
  },
  {
   "cell_type": "code",
   "execution_count": 90,
   "id": "4e9f858c-8425-4a67-85a7-1c443cd2293b",
   "metadata": {},
   "outputs": [],
   "source": [
    "#Q.25)Write a code to check if the key \"city\" exists in the dictionary {'name': 'Alice', 'city': 'Paris'}."
   ]
  },
  {
   "cell_type": "code",
   "execution_count": 92,
   "id": "7b83cdaa-5560-4003-baf9-39c787f9e092",
   "metadata": {},
   "outputs": [
    {
     "name": "stdout",
     "output_type": "stream",
     "text": [
      "city is in dic\n"
     ]
    }
   ],
   "source": [
    "dic = {'name': 'Alice', 'city': 'Paris'}\n",
    "if \"city\" in dic:\n",
    "     print(\"city is in dic\")\n",
    "else:\n",
    "    print(\"city is not in dic\")"
   ]
  },
  {
   "cell_type": "code",
   "execution_count": 93,
   "id": "a1665dd3-9372-455c-9391-d4689d467f90",
   "metadata": {},
   "outputs": [],
   "source": [
    "#Q.26)Write a code to create a list, a tuple, and a dictionary, and print them all\n"
   ]
  },
  {
   "cell_type": "code",
   "execution_count": 94,
   "id": "5667f8c9-d147-49a9-ad86-580385603c79",
   "metadata": {},
   "outputs": [
    {
     "name": "stdout",
     "output_type": "stream",
     "text": [
      "[1, 1, 12, 3, 4]\n",
      "('hdeh', 'jeh')\n",
      "{'city': 'Alwar', 'state': 'Rajasthan'}\n"
     ]
    }
   ],
   "source": [
    "lis = [1,1,12,3,4]\n",
    "tuple = (\"hdeh\",\"jeh\")\n",
    "dic = {\"city\":\"Alwar\",\"state\":\"Rajasthan\"}\n",
    "print(lis)\n",
    "print(tuple)\n",
    "print(dic)"
   ]
  },
  {
   "cell_type": "code",
   "execution_count": 95,
   "id": "7a4ac165-3f78-405d-9f97-a49c8fb0717d",
   "metadata": {},
   "outputs": [],
   "source": [
    "#Q.27)Write a code to create a list of 5 random numbers between 1 and 100, sort it in ascending order, and print the result.(replaced)\n",
    "\n"
   ]
  },
  {
   "cell_type": "code",
   "execution_count": 98,
   "id": "53ecd8d0-1c35-4052-8e20-505ba93aae19",
   "metadata": {},
   "outputs": [
    {
     "name": "stdout",
     "output_type": "stream",
     "text": [
      "Sorted random numbers: [5, 16, 48, 63, 79]\n"
     ]
    }
   ],
   "source": [
    "import random\n",
    "\n",
    "nums = [random.randint(1, 100) for _ in range(5)]\n",
    "nums.sort()\n",
    "print(\"Sorted random numbers:\", nums)"
   ]
  },
  {
   "cell_type": "code",
   "execution_count": 99,
   "id": "7a655164-c6d0-4d54-a440-a868044fd6b4",
   "metadata": {},
   "outputs": [],
   "source": [
    "#Q.28)Write a code to create a list with strings and print the element at the third index"
   ]
  },
  {
   "cell_type": "code",
   "execution_count": 100,
   "id": "fab7a081-7e3f-4fa2-8daa-cf5eb067dc39",
   "metadata": {},
   "outputs": [
    {
     "name": "stdout",
     "output_type": "stream",
     "text": [
      "Element at third index: date\n"
     ]
    }
   ],
   "source": [
    "fruits = ['apple', 'banana', 'cherry', 'date', 'elderberry']\n",
    "print(\"Element at third index:\", fruits[3])"
   ]
  },
  {
   "cell_type": "code",
   "execution_count": 101,
   "id": "8b6443a0-ea0e-4cc9-9616-7fed6fbd1a94",
   "metadata": {},
   "outputs": [],
   "source": [
    "#Q.29)  Write a code to combine two dictionaries into one and print the result"
   ]
  },
  {
   "cell_type": "code",
   "execution_count": 102,
   "id": "40d0d7d1-6f04-41d7-99e1-a24c883e485b",
   "metadata": {},
   "outputs": [
    {
     "name": "stdout",
     "output_type": "stream",
     "text": [
      "Combined dictionary: {'a': 1, 'b': 2, 'c': 3, 'd': 4}\n"
     ]
    }
   ],
   "source": [
    "\n",
    "dict1 = {'a': 1, 'b': 2}\n",
    "dict2 = {'c': 3, 'd': 4}\n",
    "combined_dict = {**dict1, **dict2}\n",
    "print(\"Combined dictionary:\", combined_dict)"
   ]
  },
  {
   "cell_type": "code",
   "execution_count": 103,
   "id": "ea053457-1f35-4827-a0ae-accb46453643",
   "metadata": {},
   "outputs": [],
   "source": [
    "#Q30)Write a code to convert a list of strings into a set."
   ]
  },
  {
   "cell_type": "code",
   "execution_count": 116,
   "id": "9bb052d7-2773-4967-a1b9-7fc961fbbaa9",
   "metadata": {},
   "outputs": [
    {
     "ename": "TypeError",
     "evalue": "'set' object is not callable",
     "output_type": "error",
     "traceback": [
      "\u001b[31m---------------------------------------------------------------------------\u001b[39m",
      "\u001b[31mTypeError\u001b[39m                                 Traceback (most recent call last)",
      "\u001b[36mCell\u001b[39m\u001b[36m \u001b[39m\u001b[32mIn[116]\u001b[39m\u001b[32m, line 2\u001b[39m\n\u001b[32m      1\u001b[39m string_list = [\u001b[33m'\u001b[39m\u001b[33mapple\u001b[39m\u001b[33m'\u001b[39m, \u001b[33m'\u001b[39m\u001b[33mbanana\u001b[39m\u001b[33m'\u001b[39m, \u001b[33m'\u001b[39m\u001b[33mcherry\u001b[39m\u001b[33m'\u001b[39m]\n\u001b[32m----> \u001b[39m\u001b[32m2\u001b[39m string_set = \u001b[38;5;28;43mset\u001b[39;49m\u001b[43m(\u001b[49m\u001b[43mstring_list\u001b[49m\u001b[43m)\u001b[49m  \n\u001b[32m      3\u001b[39m \u001b[38;5;28mprint\u001b[39m(string_set)\n",
      "\u001b[31mTypeError\u001b[39m: 'set' object is not callable"
     ]
    }
   ],
   "source": [
    "string_list = ['apple', 'banana', 'cherry']\n",
    "string_set = set(string_list)  \n",
    "print(string_set)"
   ]
  },
  {
   "cell_type": "code",
   "execution_count": null,
   "id": "9608c86c-5b1d-4f5c-acbb-5c9a6a128579",
   "metadata": {},
   "outputs": [],
   "source": []
  }
 ],
 "metadata": {
  "kernelspec": {
   "display_name": "Python 3 (ipykernel)",
   "language": "python",
   "name": "python3"
  },
  "language_info": {
   "codemirror_mode": {
    "name": "ipython",
    "version": 3
   },
   "file_extension": ".py",
   "mimetype": "text/x-python",
   "name": "python",
   "nbconvert_exporter": "python",
   "pygments_lexer": "ipython3",
   "version": "3.13.4"
  }
 },
 "nbformat": 4,
 "nbformat_minor": 5
}
